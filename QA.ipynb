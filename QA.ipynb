{
  "nbformat": 4,
  "nbformat_minor": 0,
  "metadata": {
    "colab": {
      "provenance": []
    },
    "kernelspec": {
      "name": "python3",
      "display_name": "Python 3"
    },
    "language_info": {
      "name": "python"
    }
  },
  "cells": [
    {
      "cell_type": "code",
      "execution_count": null,
      "metadata": {
        "id": "G4Bs5laHFw3S"
      },
      "outputs": [],
      "source": [
        "# ✅ Step 1: Install Required Libraries\n",
        "!pip install transformers datasets --quiet\n"
      ]
    },
    {
      "cell_type": "code",
      "source": [
        "# ✅ Step 2: Download SQuAD v2.0 Dataset Automatically\n",
        "import requests\n",
        "\n",
        "url = \"https://rajpurkar.github.io/SQuAD-explorer/dataset/train-v2.0.json\"\n",
        "response = requests.get(url)\n",
        "\n",
        "with open(\"train-v2.0.json\", \"wb\") as f:\n",
        "    f.write(response.content)\n",
        "\n",
        "print(\"✅ Dataset downloaded successfully!\")\n"
      ],
      "metadata": {
        "colab": {
          "base_uri": "https://localhost:8080/"
        },
        "id": "VDvt6Wk6Fy7q",
        "outputId": "4ecdb31f-01e7-4b65-88ba-e56474aa4def"
      },
      "execution_count": null,
      "outputs": [
        {
          "output_type": "stream",
          "name": "stdout",
          "text": [
            "✅ Dataset downloaded successfully!\n"
          ]
        }
      ]
    },
    {
      "cell_type": "code",
      "source": [
        "# ✅ Step 3: Load Dataset and Extract First QA Pair\n",
        "import json\n",
        "\n",
        "# Load dataset\n",
        "with open(\"train-v2.0.json\", \"r\") as f:\n",
        "    squad_data = json.load(f)\n",
        "\n",
        "# Extract first QA pair\n",
        "first_article = squad_data[\"data\"][0]\n",
        "first_paragraph = first_article[\"paragraphs\"][0]\n",
        "\n",
        "context = first_paragraph[\"context\"]\n",
        "question = first_paragraph[\"qas\"][0][\"question\"]\n",
        "\n",
        "print(\"📚 Context snippet:\", context[:300], \"...\")\n",
        "print(\"❓ Question:\", question)\n"
      ],
      "metadata": {
        "colab": {
          "base_uri": "https://localhost:8080/"
        },
        "id": "7xxkhOgQF8ga",
        "outputId": "309f77fd-50f2-4549-f646-fdc0207c40d8"
      },
      "execution_count": null,
      "outputs": [
        {
          "output_type": "stream",
          "name": "stdout",
          "text": [
            "📚 Context snippet: Beyoncé Giselle Knowles-Carter (/biːˈjɒnseɪ/ bee-YON-say) (born September 4, 1981) is an American singer, songwriter, record producer and actress. Born and raised in Houston, Texas, she performed in various singing and dancing competitions as a child, and rose to fame in the late 1990s as lead singe ...\n",
            "❓ Question: When did Beyonce start becoming popular?\n"
          ]
        }
      ]
    },
    {
      "cell_type": "code",
      "source": [
        "# ✅ Step 4: Run Question Answering\n",
        "from transformers import pipeline\n",
        "\n",
        "# Load QA pipeline (uses default BERT model)\n",
        "qa_pipeline = pipeline(\"question-answering\")\n",
        "\n",
        "# Get answer\n",
        "result = qa_pipeline(question=question, context=context)\n",
        "\n",
        "# Display result\n",
        "print(\"✅ Answer:\", result['answer'])\n"
      ],
      "metadata": {
        "colab": {
          "base_uri": "https://localhost:8080/"
        },
        "id": "3JuvyMkFGBDs",
        "outputId": "a2d8a098-2ed5-475a-e566-4308d3857629"
      },
      "execution_count": null,
      "outputs": [
        {
          "output_type": "stream",
          "name": "stderr",
          "text": [
            "No model was supplied, defaulted to distilbert/distilbert-base-cased-distilled-squad and revision 564e9b5 (https://huggingface.co/distilbert/distilbert-base-cased-distilled-squad).\n",
            "Using a pipeline without specifying a model name and revision in production is not recommended.\n",
            "Device set to use cpu\n"
          ]
        },
        {
          "output_type": "stream",
          "name": "stdout",
          "text": [
            "✅ Answer: late 1990s\n"
          ]
        }
      ]
    },
    {
      "cell_type": "code",
      "source": [
        "# ✅ Step 5: Bonus - Show Multiple QAs\n",
        "# Loop through more questions if you want\n",
        "for i in range(3):\n",
        "    para = squad_data[\"data\"][0][\"paragraphs\"][i]\n",
        "    context = para[\"context\"]\n",
        "    question = para[\"qas\"][0][\"question\"]\n",
        "    result = qa_pipeline(question=question, context=context)\n",
        "\n",
        "    print(f\"\\n❓ Question {i+1}: {question}\")\n",
        "    print(f\"✅ Answer: {result['answer']}\")\n"
      ],
      "metadata": {
        "colab": {
          "base_uri": "https://localhost:8080/"
        },
        "id": "8-vEoC3PGKge",
        "outputId": "8c4c7cea-8680-4d71-a579-6e49f04d3627"
      },
      "execution_count": null,
      "outputs": [
        {
          "output_type": "stream",
          "name": "stdout",
          "text": [
            "\n",
            "❓ Question 1: When did Beyonce start becoming popular?\n",
            "✅ Answer: late 1990s\n",
            "\n",
            "❓ Question 2: After her second solo album, what other entertainment venture did Beyonce explore?\n",
            "✅ Answer: acting\n",
            "\n",
            "❓ Question 3: In her music, what are some recurring elements in them?\n",
            "✅ Answer: love, relationships, and monogamy\n"
          ]
        }
      ]
    },
    {
      "cell_type": "code",
      "source": [
        "from transformers import pipeline\n",
        "\n",
        "# Load the QA pipeline\n",
        "qa_pipeline = pipeline(\"question-answering\")\n",
        "\n",
        "# 🔸 Your own custom context\n",
        "context = \"\"\"\n",
        "Tomatoes are one of the most popular vegetables used in cooking.\n",
        "They are rich in vitamins A and C, and contain antioxidants like lycopene.\n",
        "Tomatoes grow best in warm climates with plenty of sunlight.\n",
        "\"\"\"\n",
        "\n",
        "# 🔸 Your custom question\n",
        "question = \"What vitamin do tomatoes contain?\"\n",
        "\n",
        "# 🔸 Get the answer\n",
        "result = qa_pipeline(question=question, context=context)\n",
        "\n",
        "# 🔸 Print result\n",
        "print(\"❓ Question:\", question)\n",
        "print(\"📚 Context:\", context)\n",
        "print(\"✅ Answer:\", result['answer'])\n"
      ],
      "metadata": {
        "colab": {
          "base_uri": "https://localhost:8080/"
        },
        "id": "OvdQfTvOGaOj",
        "outputId": "d45f997d-2707-4dcb-f985-5930c1359148"
      },
      "execution_count": null,
      "outputs": [
        {
          "output_type": "stream",
          "name": "stderr",
          "text": [
            "No model was supplied, defaulted to distilbert/distilbert-base-cased-distilled-squad and revision 564e9b5 (https://huggingface.co/distilbert/distilbert-base-cased-distilled-squad).\n",
            "Using a pipeline without specifying a model name and revision in production is not recommended.\n",
            "Device set to use cpu\n"
          ]
        },
        {
          "output_type": "stream",
          "name": "stdout",
          "text": [
            "❓ Question: What vitamin do tomatoes contain?\n",
            "📚 Context: \n",
            "Tomatoes are one of the most popular vegetables used in cooking.\n",
            "They are rich in vitamins A and C, and contain antioxidants like lycopene.\n",
            "Tomatoes grow best in warm climates with plenty of sunlight.\n",
            "\n",
            "✅ Answer: A and C\n"
          ]
        }
      ]
    },
    {
      "cell_type": "code",
      "source": [],
      "metadata": {
        "id": "YM9bE1wJGrzp"
      },
      "execution_count": null,
      "outputs": []
    },
    {
      "cell_type": "code",
      "source": [],
      "metadata": {
        "id": "NvIs3HnWGjU0"
      },
      "execution_count": null,
      "outputs": []
    }
  ]
}